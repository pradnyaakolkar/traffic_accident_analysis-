{
 "cells": [
  {
   "cell_type": "markdown",
   "id": "7f3b7219",
   "metadata": {},
   "source": [
    "# Indian Traffic Accident Data Analytics\n",
    "\n",
    "## Introduction\n",
    "This notebook analyzes Indian traffic accident data (2022–2025). We will clean, explore, and visualize the dataset, then export processed data for Power BI dashboards."
   ]
  },
  {
   "cell_type": "code",
   "execution_count": null,
   "id": "a7306ef8",
   "metadata": {},
   "outputs": [],
   "source": [
    "# Step 1: Import libraries\n",
    "import pandas as pd\n",
    "import numpy as np\n",
    "import matplotlib.pyplot as plt\n",
    "import seaborn as sns  # optional for quick EDA\n",
    "\n",
    "# Display settings\n",
    "pd.set_option('display.max_columns', None)"
   ]
  },
  {
   "cell_type": "code",
   "execution_count": null,
   "id": "90e1e9e8",
   "metadata": {},
   "outputs": [],
   "source": [
    "# Step 2: Load Data\n",
    "# Replace 'data/traffic_accidents.csv' with your dataset path\n",
    "data_path = 'data/traffic_accidents.csv'\n",
    "df = pd.read_csv(data_path)\n",
    "df.head()"
   ]
  },
  {
   "cell_type": "code",
   "execution_count": null,
   "id": "693748eb",
   "metadata": {},
   "outputs": [],
   "source": [
    "# Step 3: Data Cleaning\n",
    "# Check for missing values\n",
    "df.info()\n",
    "df.isnull().sum()\n",
    "\n",
    "# Example: Fill or drop missing values\n",
    "# df['column'] = df['column'].fillna(value)\n",
    "# df.dropna(inplace=True)"
   ]
  },
  {
   "cell_type": "code",
   "execution_count": null,
   "id": "f7129cb7",
   "metadata": {},
   "outputs": [],
   "source": [
    "# Step 4: Exploratory Data Analysis\n",
    "plt.figure(figsize=(10,5))\n",
    "sns.countplot(x='Year', data=df)\n",
    "plt.title('Accident Counts by Year')\n",
    "plt.show()\n",
    "\n",
    "# Add more plots: state-wise analysis, time-of-day trends"
   ]
  },
  {
   "cell_type": "code",
   "execution_count": null,
   "id": "2abbc786",
   "metadata": {},
   "outputs": [],
   "source": [
    "# Step 5: Feature Engineering (Optional)\n",
    "# Example: Create time-of-day groups\n",
    "# df['Hour'] = pd.to_datetime(df['Time']).dt.hour\n",
    "# df['TimeOfDay'] = pd.cut(df['Hour'], bins=[0,6,12,18,24], labels=['Night','Morning','Afternoon','Evening'])"
   ]
  },
  {
   "cell_type": "code",
   "execution_count": null,
   "id": "7fc0dc38",
   "metadata": {},
   "outputs": [],
   "source": [
    "# Step 6: Export Cleaned Data for Power BI\n",
    "df.to_csv('data/traffic_accidents_cleaned.csv', index=False)"
   ]
  },
  {
   "cell_type": "markdown",
   "id": "46e01d1c",
   "metadata": {},
   "source": [
    "## Next Steps\n",
    "- Use the cleaned CSV in Power BI to create dashboards.\n",
    "- Suggested Pages:\n",
    "  - Overview KPIs\n",
    "  - State-wise Map\n",
    "  - Contributing Factors\n",
    "  - Predictive Insights (optional)"
   ]
  }
 ],
 "metadata": {},
 "nbformat": 4,
 "nbformat_minor": 5
}
